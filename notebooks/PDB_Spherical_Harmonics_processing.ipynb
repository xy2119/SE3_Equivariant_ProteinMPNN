{
  "nbformat": 4,
  "nbformat_minor": 0,
  "metadata": {
    "colab": {
      "provenance": [],
      "include_colab_link": true
    },
    "kernelspec": {
      "name": "python3",
      "display_name": "Python 3"
    },
    "language_info": {
      "name": "python"
    },
    "accelerator": "GPU",
    "gpuClass": "premium"
  },
  "cells": [
    {
      "cell_type": "markdown",
      "metadata": {
        "id": "view-in-github",
        "colab_type": "text"
      },
      "source": [
        "<a href=\"https://colab.research.google.com/github/xy2119/SO3_Equivariant_ProteinMPNN/blob/main/notebooks/PDB_Spherical_Harmonics_processing.ipynb\" target=\"_parent\"><img src=\"https://colab.research.google.com/assets/colab-badge.svg\" alt=\"Open In Colab\"/></a>"
      ]
    },
    {
      "cell_type": "code",
      "source": [
        "#@title Clone github repo\n",
        "import json, time, os, sys, glob\n",
        "\n",
        "if not os.path.isdir(\"ProteinMPNN\"):\n",
        "  os.system(\"git clone -q https://github.com/dauparas/ProteinMPNN.git\")\n",
        "sys.path.append('/content/ProteinMPNN')"
      ],
      "metadata": {
        "id": "pAbjO4Em1zGX"
      },
      "execution_count": 1,
      "outputs": []
    },
    {
      "cell_type": "code",
      "source": [
        "import matplotlib.pyplot as plt\n",
        "import shutil\n",
        "import warnings\n",
        "import numpy as np\n",
        "import torch\n",
        "from torch import optim\n",
        "from torch.utils.data import DataLoader\n",
        "from torch.utils.data.dataset import random_split, Subset\n",
        "import copy\n",
        "import torch.nn as nn\n",
        "import torch.nn.functional as F\n",
        "import random\n",
        "import os.path"
      ],
      "metadata": {
        "id": "8Eg-rsdA0yIO"
      },
      "execution_count": 2,
      "outputs": []
    },
    {
      "cell_type": "code",
      "execution_count": 3,
      "metadata": {
        "id": "KQBbQRQqWSDv",
        "colab": {
          "base_uri": "https://localhost:8080/",
          "height": 35
        },
        "outputId": "3a60245f-8250-4c4d-d6c4-3c4faa6af0ee"
      },
      "outputs": [
        {
          "output_type": "execute_result",
          "data": {
            "text/plain": [
              "'1O91.pdb'"
            ],
            "application/vnd.google.colaboratory.intrinsic+json": {
              "type": "string"
            }
          },
          "metadata": {},
          "execution_count": 3
        }
      ],
      "source": [
        "import re\n",
        "from google.colab import files\n",
        "import numpy as np\n",
        "\n",
        "#########################\n",
        "def get_pdb(pdb_code=\"\"):\n",
        "  if pdb_code is None or pdb_code == \"\":\n",
        "    upload_dict = files.upload()\n",
        "    pdb_string = upload_dict[list(upload_dict.keys())[0]]\n",
        "    with open(\"tmp.pdb\",\"wb\") as out: out.write(pdb_string)\n",
        "    return \"tmp.pdb\"\n",
        "  else:\n",
        "    os.system(f\"wget -qnc https://files.rcsb.org/view/{pdb_code}.pdb\")\n",
        "    return f\"{pdb_code}.pdb\"\n",
        "\n",
        "#@markdown ### Input Options\n",
        "pdb='1O91' #@param {type:\"string\"}\n",
        "pdb_path = get_pdb(pdb)\n",
        "#@markdown - pdb code (leave blank to get an upload prompt)\n",
        "pdb_path"
      ]
    },
    {
      "cell_type": "code",
      "source": [
        "from protein_mpnn_utils import loss_nll, loss_smoothed, gather_edges, gather_nodes, gather_nodes_t, cat_neighbors_nodes, _scores, _S_to_seq, tied_featurize, parse_PDB\n",
        "from protein_mpnn_utils import StructureDataset, StructureDatasetPDB, ProteinMPNN\n",
        "\n",
        "###############################################################\n",
        "chain_list=[]\n",
        "pdb_dict_list = parse_PDB(pdb_path, input_chain_list=chain_list)\n"
      ],
      "metadata": {
        "id": "JDNGBCV41goR"
      },
      "execution_count": 4,
      "outputs": []
    },
    {
      "cell_type": "code",
      "source": [
        "for i in pdb_dict_list:\n",
        "  print('pdb_dict_list:\\n',i.keys())\n",
        "  print('\\n')\n",
        "  print('seq:\\n',i['seq'])\n",
        "  print('seq_chain_A:\\n',i['seq_chain_A'])\n",
        "  print('coords_chain_A:\\n',i['coords_chain_A'].keys())\n",
        "  print('\\n')\n",
        "  print('No. of Coords N_chain_A:',len(i['coords_chain_A']['N_chain_A']),'\\n',i['coords_chain_A']['N_chain_A'][:3])\n",
        "  print('\\n')\n",
        "  print('No. of Coords CA_chain_A:',len(i['coords_chain_A']['CA_chain_A']),'\\n',i['coords_chain_A']['CA_chain_A'][:3])\n",
        "  print('\\n')\n",
        "  print('No. of Coords C_chain_A:',len(i['coords_chain_A']['C_chain_A']),'\\n',i['coords_chain_A']['C_chain_A'][:3])\n",
        "  print('\\n')\n",
        "  print('No. of Coords O_chain_A:',len(i['coords_chain_A']['O_chain_A']),'\\n',i['coords_chain_A']['O_chain_A'][:3])\n",
        "  print('\\n')\n",
        "  print(i['num_of_chains'])\n",
        "  print('coords_chain_B:\\n',i['coords_chain_B'].keys())\n",
        "  print('\\n')\n",
        "  print('No. of Coords N_chain_B:',len(i['coords_chain_B']['N_chain_B']),'\\n',i['coords_chain_B']['N_chain_B'][:3])\n",
        "  print('\\n')\n",
        "  print('No. of Coords CA_chain_B:',len(i['coords_chain_B']['CA_chain_B']),'\\n',i['coords_chain_B']['CA_chain_B'][:3])\n",
        "  print('\\n')\n",
        "  print('No. of Coords C_chain_B:',len(i['coords_chain_B']['C_chain_B']),'\\n',i['coords_chain_B']['C_chain_B'][:3])\n",
        "  print('\\n')\n",
        "  print('No. of Coords O_chain_B:',len(i['coords_chain_B']['O_chain_B']),'\\n',i['coords_chain_B']['O_chain_B'][:3])\n",
        "  print('\\n')"
      ],
      "metadata": {
        "colab": {
          "base_uri": "https://localhost:8080/"
        },
        "id": "kBEUBBsR-v5v",
        "outputId": "6ca313be-2848-4c5f-ff26-16d91ca89545"
      },
      "execution_count": 5,
      "outputs": [
        {
          "output_type": "stream",
          "name": "stdout",
          "text": [
            "pdb_dict_list:\n",
            " dict_keys(['seq_chain_A', 'coords_chain_A', 'seq_chain_B', 'coords_chain_B', 'seq_chain_C', 'coords_chain_C', 'name', 'num_of_chains', 'seq'])\n",
            "\n",
            "\n",
            "seq:\n",
            " EMPAFTAELTVPFPPVGAPVKFDKLLYNGRQNYNPQTGIFTCEVPGVYYFAYHVHCKGGNVWVALFKNNEPMMYTYDEYKKGFLDQASGSAVLLLRPGDQVFLQMPSEQAAGLYAGQYVHSSFSGYLLYPMEMPAFTAELTVPFPPVGAPVKFDKLLYNGRQNYNPQTGIFTCEVPGVYYFAYHVHCKGGNVWVALFKNNEPMMYTYDEYKKGFLDQASGSAVLLLRPGDQVFLQMPSEQAAGLYAGQYVHSSFSGYLLYPMEMPAFTAELTVPFPPVGAPVKFDKLLYNGRQNYNPQTGIFTCEVPGVYYFAYHVHCKGGNVWVALFKNNEPMMYTYDEYKKGFLDQASGSAVLLLRPGDQVFLQMPSEQAAGLYAGQYVHSSFSGYLLYPM\n",
            "seq_chain_A:\n",
            " EMPAFTAELTVPFPPVGAPVKFDKLLYNGRQNYNPQTGIFTCEVPGVYYFAYHVHCKGGNVWVALFKNNEPMMYTYDEYKKGFLDQASGSAVLLLRPGDQVFLQMPSEQAAGLYAGQYVHSSFSGYLLYPM\n",
            "coords_chain_A:\n",
            " dict_keys(['N_chain_A', 'CA_chain_A', 'C_chain_A', 'O_chain_A'])\n",
            "\n",
            "\n",
            "No. of Coords N_chain_A: 131 \n",
            " [[-4.825, -16.271, 35.102], [-3.63, -12.953, 34.821], [-3.688, -10.279, 32.364]]\n",
            "\n",
            "\n",
            "No. of Coords CA_chain_A: 131 \n",
            " [[-3.657, -15.384, 34.838], [-4.024, -11.614, 34.391], [-2.953, -9.677, 31.245]]\n",
            "\n",
            "\n",
            "No. of Coords C_chain_A: 131 \n",
            " [[-4.149, -14.05, 34.276], [-3.119, -11.07, 33.29], [-2.061, -8.529, 31.709]]\n",
            "\n",
            "\n",
            "No. of Coords O_chain_A: 131 \n",
            " [[-4.987, -14.017, 33.372], [-1.922, -11.353, 33.262], [-2.558, -7.508, 32.18]]\n",
            "\n",
            "\n",
            "3\n",
            "coords_chain_B:\n",
            " dict_keys(['N_chain_B', 'CA_chain_B', 'C_chain_B', 'O_chain_B'])\n",
            "\n",
            "\n",
            "No. of Coords N_chain_B: 131 \n",
            " [[-4.486, -3.585, 54.245], [-2.819, -2.781, 51.264], [0.224, -3.463, 49.376]]\n",
            "\n",
            "\n",
            "No. of Coords CA_chain_B: 131 \n",
            " [[-3.58, -2.618, 53.564], [-2.101, -3.36, 50.133], [1.589, -2.969, 49.17]]\n",
            "\n",
            "\n",
            "No. of Coords C_chain_B: 131 \n",
            " [[-2.78, -3.33, 52.474], [-0.722, -2.731, 49.985], [1.616, -1.935, 48.049]]\n",
            "\n",
            "\n",
            "No. of Coords O_chain_B: 131 \n",
            " [[-2.152, -4.361, 52.722], [-0.496, -1.602, 50.422], [1.257, -2.243, 46.916]]\n",
            "\n",
            "\n"
          ]
        }
      ]
    },
    {
      "cell_type": "code",
      "source": [
        "N_A=np.array(pdb_dict_list[0]['coords_chain_A']['N_chain_A'])\n",
        "N_A.shape"
      ],
      "metadata": {
        "colab": {
          "base_uri": "https://localhost:8080/"
        },
        "id": "YCILRXj_0GRg",
        "outputId": "28856d18-1a60-4955-cf1c-aad4fc1be278"
      },
      "execution_count": 6,
      "outputs": [
        {
          "output_type": "execute_result",
          "data": {
            "text/plain": [
              "(131, 3)"
            ]
          },
          "metadata": {},
          "execution_count": 6
        }
      ]
    },
    {
      "cell_type": "code",
      "source": [
        "N_A[:10]"
      ],
      "metadata": {
        "colab": {
          "base_uri": "https://localhost:8080/"
        },
        "id": "DkRAqug81MTR",
        "outputId": "2ad2ba0d-add0-4bf3-d3c8-68bc20c00c71"
      },
      "execution_count": 7,
      "outputs": [
        {
          "output_type": "execute_result",
          "data": {
            "text/plain": [
              "array([[ -4.825, -16.271,  35.102],\n",
              "       [ -3.63 , -12.953,  34.821],\n",
              "       [ -3.688, -10.279,  32.364],\n",
              "       [ -0.75 ,  -8.697,  31.569],\n",
              "       [  2.27 ,  -6.944,  30.894],\n",
              "       [  5.742,  -6.22 ,  29.963],\n",
              "       [  7.88 ,  -5.033,  27.687],\n",
              "       [ 11.026,  -4.709,  26.172],\n",
              "       [ 12.991,  -2.771,  23.897],\n",
              "       [ 15.797,  -3.665,  22.123]])"
            ]
          },
          "metadata": {},
          "execution_count": 7
        }
      ]
    },
    {
      "cell_type": "markdown",
      "source": [
        "![image.png](data:image/png;base64,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)"
      ],
      "metadata": {
        "id": "lSoOi3bC-4TL"
      }
    },
    {
      "cell_type": "code",
      "source": [],
      "metadata": {
        "id": "KaH8kPpX-fuy"
      },
      "execution_count": 51,
      "outputs": []
    },
    {
      "cell_type": "code",
      "source": [
        "import math\n",
        "import numpy as np\n",
        "from scipy.special import sph_harm\n",
        "\n",
        "\n",
        "# define the spherical harmonic Y_lm\n",
        "def Y_lm(l, m, theta, phi):\n",
        "    \"\"\"\n",
        "    Computes the spherical harmonics function Y_lm.\n",
        "    \n",
        "    Parameters:\n",
        "    l (int): Degree of the spherical harmonics function.\n",
        "    m (int): Order of the spherical harmonics function.\n",
        "    theta (numpy array): Azimuthal angles in spherical coordinates.\n",
        "    phi (numpy array): Polar angles in spherical coordinates.\n",
        "    \n",
        "    Returns:\n",
        "    numpy array: Spherical harmonics function Y_lm.\n",
        "    \"\"\"\n",
        "    # Compute the prefactor\n",
        "    \n",
        "    prefactor = np.sqrt((2*l+1)/(4*np.pi)) * np.sqrt(math.perm(l-m)/math.perm(l+m))\n",
        "    print('prefactor',prefactor)\n",
        "    # Calculate the value of the spherical harmonic\n",
        "    harmonic = sph_harm(m, l, theta.T, phi.T)\n",
        "\n",
        "    # Multiply the prefactor by the harmonic, and apply the phase shift\n",
        "    if m < 0:\n",
        "        result = prefactor * np.sin(-m*phi) * harmonic\n",
        "    elif m == 0:\n",
        "        result = prefactor * harmonic\n",
        "    else:\n",
        "        result = prefactor * np.cos(m*phi) * harmonic\n",
        "\n",
        "    # Multiply the prefactor by the harmonic, and apply the phase shift\n",
        "    result = prefactor * np.cos(m*phi) * harmonic\n",
        "    print('l,m:',l,m)\n",
        "    print('loc',l**2+l+m)\n",
        "    print('coef',result.real)\n",
        "    # Convert the result to a scalar value\n",
        "    return result.real\n",
        " \n",
        "def reconstruct_Y_lm(expand_coef, l_max, theta, phi):\n",
        "    \"\"\"\n",
        "    Reconstructs the spherical harmonics function Y_lm from the expansion coefficients.\n",
        "    \n",
        "    Parameters:\n",
        "    expand_coef (numpy array): Expansion coefficients of the spherical harmonics function.\n",
        "    l_max (int): Maximum degree of the spherical harmonics expansion.\n",
        "    theta (numpy array): Azimuthal angles in spherical coordinates.\n",
        "    phi (numpy array): Polar angles in spherical coordinates.\n",
        "    \n",
        "    Returns:\n",
        "    numpy array: Reconstructed spherical harmonics function Y_lm.\n",
        "    \"\"\"\n",
        "    # Initialize the reconstructed Y_lm to 0\n",
        "    reconstructed_Y_lm = 0\n",
        "    \n",
        "    # Loop over l and m\n",
        "    for l in range(l_max+1):\n",
        "        for m in range(-l, l+1):\n",
        "            # Retrieve the expansion coefficient for the given l and m\n",
        "            coef = expand_coef[:,l**2 + l + m]\n",
        "            # Compute the spherical harmonic for the given l and m\n",
        "            harmonic = sph_harm(m, l, theta.T, phi.T)\n",
        "\n",
        "            # Add the product of the expansion coefficient and the spherical harmonic to the reconstructed Y_lm\n",
        "            reconstructed_Y_lm += coef.reshape(-1,1) * harmonic\n",
        "\n",
        "    return reconstructed_Y_lm\n",
        "\n",
        "def reconstruct_from_spherical_harmonics(expand_matrix, r, theta, phi, l_max):\n",
        "    \"\"\"\n",
        "    Reconstructs the 3D Cartesian coordinates from the expansion coefficients of the spherical harmonics representation.\n",
        "    \n",
        "    Parameters:\n",
        "    expand_coef (numpy array): Invariant combination of expansion coefficients of the spherical harmonics.\n",
        "    l_max (int): Maximum degree of the spherical harmonics expansion.\n",
        "    \n",
        "    Returns:\n",
        "    numpy array: 3D Cartesian coordinates of protein atoms.\n",
        "    \"\"\"\n",
        "    # Initialize the reconstructed coordinates array\n",
        "    reconstructed_coordinates = np.zeros((expand_matrix.shape[0], 3))\n",
        "    \n",
        "    # Loop over l and m\n",
        "    for l in range(l_max+1):\n",
        "        for m in range(-l, l+1):\n",
        "            # Retrieve the expansion coefficient for the given l and m\n",
        "            coef = expand_matrix[:, l**2+l+m]\n",
        "            # Compute the spherical harmonic for the given l and m\n",
        "            #harmonic = sph_harm(m, l, theta.T, phi.T)\n",
        "\n",
        "            # Convert the spherical harmonic to Cartesian coordinates\n",
        "            x = r * np.sin(theta) * np.cos(phi)\n",
        "            y = r * np.sin(theta) * np.sin(phi)\n",
        "            z = r * np.cos(theta)\n",
        "            # Add the Cartesian coordinates to the reconstructed coordinates array\n",
        "            reconstructed_coordinates += coef.reshape(-1,1) * np.stack((x, y, z), axis=1)\n",
        "\n",
        "            print('RECON coef:\\n',coef.reshape(-1,1))\n",
        "            #print('RECON harmonic:',harmonic)\n",
        "    \n",
        "    return reconstructed_coordinates\n",
        "\n",
        "\n",
        "def reduce_dimensions_with_spherical_harmonics(coordinates, l_max):\n",
        "    \"\"\"\n",
        "    Reduces the dimensions of the protein coordinates using the expansion coefficients of the spherical harmonics representation.\n",
        "    \n",
        "    Parameters:\n",
        "    coordinates (numpy array): 3D Cartesian coordinates of protein atoms.\n",
        "    l_max (int): Maximum degree of the spherical harmonics expansion.\n",
        "    \n",
        "    Returns:\n",
        "    numpy array: Invariant combination of expansion coefficients of the spherical harmonics.\n",
        "    \"\"\"\n",
        "    # Convert the Cartesian coordinates to spherical coordinates\n",
        "    r = np.linalg.norm(coordinates, axis=1)\n",
        "    theta = np.arccos(coordinates[:,2] / r)\n",
        "    phi = np.arctan2(coordinates[:,1], coordinates[:,0])\n",
        "\n",
        "    # initialize the matrix\n",
        "    expand_coef=np.zeros((len(theta), l_max+1), dtype=complex)\n",
        "    expand_matrix = np.zeros((len(theta), (l_max+1)**2), dtype=complex)\n",
        "    print('theta,phi:',theta,phi)\n",
        "    print('expand_matrix.shape:',expand_matrix.shape)\n",
        "    # loop over l and m\n",
        "    for l in range(l_max+1):\n",
        "      for m in range(-l, l+1):\n",
        "        coef=Y_lm(l, m, theta, phi)\n",
        "        expand_coef[:,l] += (coef**2)\n",
        "        # add the values of Y_lm to the matrix\n",
        "        expand_matrix[:,l**2+l+m] = coef\n",
        "\n",
        "    print('expand_coef:\\n',expand_coef.real)\n",
        "    # Compute the invariant L2 norm of the expansion coefficients\n",
        "    l2_norm = np.sqrt(np.sum(expand_coef,axis=1))\n",
        "    print('l2_norm:\\n',l2_norm.real)\n",
        "    print('expand_matrix:\\n',expand_matrix.real)\n",
        "    recon=reconstruct_Y_lm(expand_matrix.real, l_max,theta, phi)\n",
        "    #recon=reconstruct_from_sph_harmonics(expand_matrix.real,theta,phi,l_max)\n",
        "    print('recon:',recon.real)\n",
        "    return expand_matrix.real,l2_norm.real\n",
        "\n",
        "\"\"\" # Compute the spherical harmonics expansion of the function defined by the protein coordinates\n",
        "    Y_lm = sph_harm(m, l, phi, theta)\n",
        "    \n",
        "    # Truncate the expansion at the specified degree\n",
        "    Y_lm = Y_lm[:, :l_max+1, :l_max+1]\n",
        "    \n",
        "    # Compute the invariant combination of the expansion coefficients\n",
        "    invariant = np.sum(np.abs(Y_lm)**2, axis=(1,2))\n",
        "    \n",
        "    return invariant\n",
        "\"\"\""
      ],
      "metadata": {
        "colab": {
          "base_uri": "https://localhost:8080/",
          "height": 89
        },
        "id": "OaN9my103CZ7",
        "outputId": "9f92d015-0dc7-4343-8dd4-e73cfe9cdce3"
      },
      "execution_count": 79,
      "outputs": [
        {
          "output_type": "execute_result",
          "data": {
            "text/plain": [
              "' # Compute the spherical harmonics expansion of the function defined by the protein coordinates\\n    Y_lm = sph_harm(m, l, phi, theta)\\n    \\n    # Truncate the expansion at the specified degree\\n    Y_lm = Y_lm[:, :l_max+1, :l_max+1]\\n    \\n    # Compute the invariant combination of the expansion coefficients\\n    invariant = np.sum(np.abs(Y_lm)**2, axis=(1,2))\\n    \\n    return invariant\\n'"
            ],
            "application/vnd.google.colaboratory.intrinsic+json": {
              "type": "string"
            }
          },
          "metadata": {},
          "execution_count": 79
        }
      ]
    },
    {
      "cell_type": "code",
      "source": [
        "N_A[:4],N_A[:4].T,N_A[:4][:,1]"
      ],
      "metadata": {
        "colab": {
          "base_uri": "https://localhost:8080/"
        },
        "id": "JacsPvhI_Yl1",
        "outputId": "01ba0134-45d7-4def-e9c8-a5300692cd10"
      },
      "execution_count": 80,
      "outputs": [
        {
          "output_type": "execute_result",
          "data": {
            "text/plain": [
              "(array([[ -4.825, -16.271,  35.102],\n",
              "        [ -3.63 , -12.953,  34.821],\n",
              "        [ -3.688, -10.279,  32.364],\n",
              "        [ -0.75 ,  -8.697,  31.569]]),\n",
              " array([[ -4.825,  -3.63 ,  -3.688,  -0.75 ],\n",
              "        [-16.271, -12.953, -10.279,  -8.697],\n",
              "        [ 35.102,  34.821,  32.364,  31.569]]),\n",
              " array([-16.271, -12.953, -10.279,  -8.697]))"
            ]
          },
          "metadata": {},
          "execution_count": 80
        }
      ]
    },
    {
      "cell_type": "code",
      "source": [
        "m,l2=reduce_dimensions_with_spherical_harmonics(N_A[:4],l_max=4)\n",
        "l2"
      ],
      "metadata": {
        "colab": {
          "base_uri": "https://localhost:8080/"
        },
        "id": "pgnwQnIX5cVb",
        "outputId": "17e78a10-bc01-42d2-d2f7-3f563081350a"
      },
      "execution_count": 84,
      "outputs": [
        {
          "output_type": "stream",
          "name": "stdout",
          "text": [
            "theta,phi: [0.45034946 0.36865746 0.32543304 0.26977347] [-1.85907566 -1.84403124 -1.91528011 -1.65682014]\n",
            "expand_matrix.shape: (4, 25)\n",
            "prefactor 0.28209479177387814\n",
            "l,m: 0 0\n",
            "loc 0\n",
            "coef [0.07957747 0.07957747 0.07957747 0.07957747]\n",
            "prefactor 0.690988298942671\n",
            "l,m: 1 -1\n",
            "loc 1\n",
            "coef [-0.0585836  -0.05786379 -0.07190287 -0.01969638]\n",
            "prefactor 0.4886025119029199\n",
            "l,m: 1 0\n",
            "loc 2\n",
            "coef [-0.06787234 -0.0644214  -0.08062252 -0.02051135]\n",
            "prefactor 0.3454941494713355\n",
            "l,m: 1 1\n",
            "loc 3\n",
            "coef [0.0292918  0.02893189 0.03595143 0.00984819]\n",
            "prefactor 3.0901936161855166\n",
            "l,m: 2 -2\n",
            "loc 4\n",
            "coef [-0.57126201 -0.6999766  -0.64942124 -1.00152476]\n",
            "prefactor 1.5450968080927583\n",
            "l,m: 2 -1\n",
            "loc 5\n",
            "coef [0.08327746 0.07807206 0.12141189 0.00846134]\n",
            "prefactor 0.6307831305050401\n",
            "l,m: 2 0\n",
            "loc 6\n",
            "coef [-0.15070291 -0.15548375 -0.13087593 -0.19453796]\n",
            "prefactor 0.2575161346821264\n",
            "l,m: 2 1\n",
            "loc 7\n",
            "coef [-0.01387958 -0.01301201 -0.02023531 -0.00141022]\n",
            "prefactor 0.1287580673410632\n",
            "l,m: 2 2\n",
            "loc 8\n",
            "coef [-0.02380258 -0.02916569 -0.02705922 -0.0417302 ]\n",
            "prefactor 20.026743534373637\n",
            "l,m: 3 -3\n",
            "loc 9\n",
            "coef [1.22145483 2.44425561 3.35260812 1.4551384 ]\n",
            "prefactor 8.175883811466258\n",
            "l,m: 3 -2\n",
            "loc 10\n",
            "coef [1.13688047 1.32220977 1.53521613 0.60234128]\n",
            "prefactor 2.585441472913205\n",
            "l,m: 3 -1\n",
            "loc 11\n",
            "coef [0.12217648 0.12878676 0.10815265 0.0663929 ]\n",
            "prefactor 0.7463526651802308\n",
            "l,m: 3 0\n",
            "loc 12\n",
            "coef [0.20555153 0.1981106  0.22854199 0.0709065 ]\n",
            "prefactor 0.21545345607610042\n",
            "l,m: 3 1\n",
            "loc 13\n",
            "coef [-0.01018137 -0.01073223 -0.00901272 -0.00553274]\n",
            "prefactor 0.06813236509555215\n",
            "l,m: 3 2\n",
            "loc 14\n",
            "coef [0.009474   0.01101841 0.01279347 0.00501951]\n",
            "prefactor 0.02781492157551894\n",
            "l,m: 3 3\n",
            "loc 15\n",
            "coef [-0.00169647 -0.0033948  -0.0046564  -0.00202103]\n",
            "prefactor 169.93255389887332\n",
            "l,m: 4 -4\n",
            "loc 16\n",
            "coef [-5.89063929  2.85461723  3.00741912 32.93145888]\n",
            "prefactor 60.08023060312092\n",
            "l,m: 4 -3\n",
            "loc 17\n",
            "coef [ -3.12536929  -5.93619187 -10.18990877  -1.12519996]\n",
            "prefactor 16.05711704537494\n",
            "l,m: 4 -2\n",
            "loc 18\n",
            "coef [1.11619575 1.54431571 0.58932955 4.27397829]\n",
            "prefactor 3.7846987830302403\n",
            "l,m: 4 -1\n",
            "loc 19\n",
            "coef [-0.30407131 -0.2916314  -0.4009615  -0.03742021]\n",
            "prefactor 0.8462843753216345\n",
            "l,m: 4 0\n",
            "loc 20\n",
            "coef [0.07196137 0.08961874 0.00302502 0.24891896]\n",
            "prefactor 0.18923493915151202\n",
            "l,m: 4 1\n",
            "loc 21\n",
            "coef [0.01520357 0.01458157 0.02004808 0.00187101]\n",
            "prefactor 0.04460310290381928\n",
            "l,m: 4 2\n",
            "loc 22\n",
            "coef [0.00310054 0.00428977 0.00163703 0.01187216]\n",
            "prefactor 0.011920680675222404\n",
            "l,m: 4 3\n",
            "loc 23\n",
            "coef [0.00062011 0.00117782 0.00202181 0.00022325]\n",
            "prefactor 0.004214597070904597\n",
            "l,m: 4 4\n",
            "loc 24\n",
            "coef [-1.46097205e-04  7.07990385e-05  7.45887678e-05  8.16752452e-04]\n",
            "expand_coef:\n",
            " [[6.33257398e-03 8.89670134e-03 3.56745993e-01 2.84182392e+00\n",
            "  4.58113364e+01]\n",
            " [6.33257398e-03 8.33538965e-03 5.21257631e-01 7.77870610e+00\n",
            "  4.58654373e+01]\n",
            " [6.33257398e-03 1.29625194e-02 4.54758976e-01 1.36610648e+01\n",
            "  1.13387308e+02]\n",
            " [6.33257398e-03 9.05649795e-04 1.04271186e+00 2.48973842e+00\n",
            "  1.10407746e+03]]\n",
            "l2_norm:\n",
            " [ 7.00179517  7.36071118 11.29258282 33.28088256]\n",
            "expand_matrix:\n",
            " [[ 7.95774715e-02 -5.85835951e-02 -6.78723384e-02  2.92917976e-02\n",
            "  -5.71262012e-01  8.32774552e-02 -1.50702908e-01 -1.38795759e-02\n",
            "  -2.38025838e-02  1.22145483e+00  1.13688047e+00  1.22176481e-01\n",
            "   2.05551529e-01 -1.01813734e-02  9.47400393e-03 -1.69646504e-03\n",
            "  -5.89063929e+00 -3.12536929e+00  1.11619575e+00 -3.04071307e-01\n",
            "   7.19613702e-02  1.52035654e-02  3.10054374e-03  6.20112954e-04\n",
            "  -1.46097205e-04]\n",
            " [ 7.95774715e-02 -5.78637866e-02 -6.44214048e-02  2.89318933e-02\n",
            "  -6.99976598e-01  7.80720629e-02 -1.55483751e-01 -1.30120105e-02\n",
            "  -2.91656916e-02  2.44425561e+00  1.32220977e+00  1.28786756e-01\n",
            "   1.98110602e-01 -1.07322297e-02  1.10184147e-02 -3.39479946e-03\n",
            "   2.85461723e+00 -5.93619187e+00  1.54431571e+00 -2.91631400e-01\n",
            "   8.96187390e-02  1.45815700e-02  4.28976585e-03  1.17781585e-03\n",
            "   7.07990385e-05]\n",
            " [ 7.95774715e-02 -7.19028688e-02 -8.06225229e-02  3.59514344e-02\n",
            "  -6.49421243e-01  1.21411889e-01 -1.30875930e-01 -2.02353149e-02\n",
            "  -2.70592184e-02  3.35260812e+00  1.53521613e+00  1.08152655e-01\n",
            "   2.28541992e-01 -9.01272121e-03  1.27934677e-02 -4.65640017e-03\n",
            "   3.00741912e+00 -1.01899088e+01  5.89329554e-01 -4.00961503e-01\n",
            "   3.02501501e-03  2.00480752e-02  1.63702654e-03  2.02180730e-03\n",
            "   7.45887678e-05]\n",
            " [ 7.95774715e-02 -1.96963800e-02 -2.05113520e-02  9.84819002e-03\n",
            "  -1.00152476e+00  8.46134332e-03 -1.94537956e-01 -1.41022389e-03\n",
            "  -4.17301984e-02  1.45513840e+00  6.02341281e-01  6.63929016e-02\n",
            "   7.09064958e-02 -5.53274180e-03  5.01951067e-03 -2.02102555e-03\n",
            "   3.29314589e+01 -1.12519996e+00  4.27397829e+00 -3.74202102e-02\n",
            "   2.48918955e-01  1.87101051e-03  1.18721619e-02  2.23253960e-04\n",
            "   8.16752452e-04]]\n",
            "recon: [[ 0.37471751 -0.11949015 -0.22062916 -1.21808707]\n",
            " [-0.17438872  0.66970287  1.2813397   0.96902361]\n",
            " [ 0.18448174  1.43370194  2.27537839  1.78540785]\n",
            " [-3.2279922   0.80714728  2.96756153  5.85716168]]\n"
          ]
        },
        {
          "output_type": "execute_result",
          "data": {
            "text/plain": [
              "array([ 7.00179517,  7.36071118, 11.29258282, 33.28088256])"
            ]
          },
          "metadata": {},
          "execution_count": 84
        }
      ]
    },
    {
      "cell_type": "code",
      "source": [
        "N_A[:4]"
      ],
      "metadata": {
        "colab": {
          "base_uri": "https://localhost:8080/"
        },
        "id": "ZFf9gFSDeZbj",
        "outputId": "30ea7455-afcc-4908-b26f-a5f678e768ee"
      },
      "execution_count": 85,
      "outputs": [
        {
          "output_type": "execute_result",
          "data": {
            "text/plain": [
              "array([[ -4.825, -16.271,  35.102],\n",
              "       [ -3.63 , -12.953,  34.821],\n",
              "       [ -3.688, -10.279,  32.364],\n",
              "       [ -0.75 ,  -8.697,  31.569]])"
            ]
          },
          "metadata": {},
          "execution_count": 85
        }
      ]
    },
    {
      "cell_type": "markdown",
      "source": [
        "cleaned"
      ],
      "metadata": {
        "id": "Hir7c6sOOjpZ"
      }
    },
    {
      "cell_type": "code",
      "source": [
        "import math\n",
        "import numpy as np\n",
        "from scipy.special import sph_harm\n",
        "\n",
        "\n",
        "# define the spherical harmonic Y_lm\n",
        "def Y_lm(l, m, theta, phi):\n",
        "    # Compute the prefactor\n",
        "    \n",
        "    prefactor = np.sqrt((2*l+1)/(4*np.pi)) * np.sqrt(math.perm(l-m)/math.perm(l+m))\n",
        "    # Calculate the value of the spherical harmonic\n",
        "    harmonic = sph_harm(m, l, theta.T, phi.T)\n",
        "\n",
        "    # Multiply the prefactor by the harmonic, and apply the phase shift\n",
        "    if m < 0:\n",
        "        result = prefactor * np.sin(-m*phi) * harmonic\n",
        "    elif m == 0:\n",
        "        result = prefactor * harmonic\n",
        "    else:\n",
        "        result = prefactor * np.cos(m*phi) * harmonic\n",
        "\n",
        "    # Multiply the prefactor by the harmonic, and apply the phase shift\n",
        "    result = prefactor * np.cos(m*phi) * harmonic\n",
        "    # Convert the result to a scalar value\n",
        "    return result.real\n",
        "\n",
        "def reduce_dimensions_with_spherical_harmonics(coordinates, l_max):\n",
        "    \"\"\"\n",
        "    Reduces the dimensions of the protein coordinates using the expansion coefficients of the spherical harmonics representation.\n",
        "    \n",
        "    Parameters:\n",
        "    coordinates (numpy array): 3D Cartesian coordinates of protein atoms.\n",
        "    l_max (int): Maximum degree of the spherical harmonics expansion.\n",
        "    \n",
        "    Returns:\n",
        "    numpy array: Invariant combination of expansion coefficients of the spherical harmonics.\n",
        "    \"\"\"\n",
        "    # Convert the Cartesian coordinates to spherical coordinates\n",
        "    r = np.linalg.norm(coordinates, axis=1)\n",
        "    theta = np.arccos(coordinates[:,2] / r)\n",
        "    phi = np.arctan2(coordinates[:,1], coordinates[:,0])\n",
        "\n",
        "    # initialize the matrix\n",
        "    expand_coef=np.zeros((len(theta), l_max+1), dtype=complex)\n",
        "    expand_matrix = np.zeros((len(theta), (l_max+1)**2), dtype=complex)\n",
        "\n",
        "    # loop over l and m\n",
        "    for l in range(l_max+1):\n",
        "      for m in range(-l, l+1):\n",
        "        coef=Y_lm(l, m, theta, phi)\n",
        "        expand_coef[:,l] += (coef**2)\n",
        "        # add the values of Y_lm to the matrix\n",
        "        expand_matrix[:,l**2+l+m] = coef\n",
        "    # Compute the invariant L2 norm of the expansion coefficients\n",
        "    l2_norm = np.sqrt(np.sum(expand_coef,axis=1))\n",
        "    return expand_matrix.real,l2_norm.real\n"
      ],
      "metadata": {
        "id": "EhZ8vPZdOjbd"
      },
      "execution_count": 86,
      "outputs": []
    },
    {
      "cell_type": "code",
      "source": [
        "m,l2=reduce_dimensions_with_spherical_harmonics(N_A[-2:],1)\n",
        "l2"
      ],
      "metadata": {
        "colab": {
          "base_uri": "https://localhost:8080/"
        },
        "id": "WanuCazz7Sys",
        "outputId": "dd47531b-bcc5-4dc9-f6fd-9138422f9759"
      },
      "execution_count": 87,
      "outputs": [
        {
          "output_type": "execute_result",
          "data": {
            "text/plain": [
              "array([0.2495505 , 0.24993912])"
            ]
          },
          "metadata": {},
          "execution_count": 87
        }
      ]
    },
    {
      "cell_type": "code",
      "source": [
        "m,l2=reduce_dimensions_with_spherical_harmonics(N_A[-2:],2)\n",
        "l2"
      ],
      "metadata": {
        "colab": {
          "base_uri": "https://localhost:8080/"
        },
        "id": "cY_PZaMKRXHd",
        "outputId": "3041f2de-7724-46a1-b648-767bbccf7baa"
      },
      "execution_count": 88,
      "outputs": [
        {
          "output_type": "execute_result",
          "data": {
            "text/plain": [
              "array([0.56120178, 0.53944369])"
            ]
          },
          "metadata": {},
          "execution_count": 88
        }
      ]
    },
    {
      "cell_type": "code",
      "source": [
        "m,l2=reduce_dimensions_with_spherical_harmonics(N_A[-2:],4)\n",
        "l2"
      ],
      "metadata": {
        "colab": {
          "base_uri": "https://localhost:8080/"
        },
        "id": "_ejuIfOaR-on",
        "outputId": "76cbc118-f91d-46cc-857b-3b36b6a0fa71"
      },
      "execution_count": 90,
      "outputs": [
        {
          "output_type": "execute_result",
          "data": {
            "text/plain": [
              "array([3.12997703, 2.67459118])"
            ]
          },
          "metadata": {},
          "execution_count": 90
        }
      ]
    },
    {
      "cell_type": "code",
      "source": [],
      "metadata": {
        "id": "anFHXahIo6X0"
      },
      "execution_count": null,
      "outputs": []
    },
    {
      "cell_type": "code",
      "source": [
        "dataset_valid = StructureDatasetPDB(pdb_dict_list, truncate=None, max_length=100)\n",
        "\n"
      ],
      "metadata": {
        "id": "JquORZcw1kgL"
      },
      "execution_count": 92,
      "outputs": []
    },
    {
      "cell_type": "code",
      "source": [],
      "metadata": {
        "id": "8qAHdljRpKxP"
      },
      "execution_count": null,
      "outputs": []
    }
  ]
}